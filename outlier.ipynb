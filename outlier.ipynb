{
 "cells": [
  {
   "cell_type": "code",
   "execution_count": 1,
   "metadata": {},
   "outputs": [],
   "source": [
    "q1 = 10\n",
    "q2 = 19\n",
    "q3 = 32\n",
    "q1_4 = q1 * 0.25\n",
    "q3_4 = q3 * 0.75\n",
    "iqr = q3_4 - q1_4\n",
    "lower_bound = q1_4 - 1.5 * iqr\n",
    "upper_bound = q3_4 + 1.5 * iqr\n",
    "\n",
    "if q1 < lower_bound:\n",
    "    print(f\"The lowest outlier is {q1}\")\n",
    "if q3 > upper_bound:\n",
    "    print(f\"The highest outlier is {q3}\")"
   ]
  },
  {
   "cell_type": "code",
   "execution_count": 1,
   "metadata": {},
   "outputs": [
    {
     "data": {
      "image/png": "[encoded data removed]",
      "text/plain": [
       "<Figure size 640x480 with 1 Axes>"
      ]
     },
     "metadata": {},
     "output_type": "display_data"
    }
   ],
   "source": [
    "import matplotlib.pyplot as plt\n",
    "\n",
    "q1 = 10\n",
    "q2 = 19\n",
    "q3 = 32\n",
    "q1_4 = q1 * 0.25\n",
    "q3_4 = q3 * 0.75\n",
    "iqr = q3_4 - q1_4\n",
    "lower_bound = q1_4 - 1.5 * iqr\n",
    "upper_bound = q3_4 + 1.5 * iqr\n",
    "data = [q1, q2, q3]\n",
    "plt.boxplot(data, vert=False, whis=[5, 95])\n",
    "plt.xlabel('Values')\n",
    "plt.ylabel(' ')\n",
    "plt.title('Whisker Plot')\n",
    "plt.show()"
   ]
  },
  {
   "cell_type": "code",
   "execution_count": null,
   "metadata": {},
   "outputs": [],
   "source": []
  }
 ],
 "metadata": {
  "kernelspec": {
   "display_name": "Python 3",
   "language": "python",
   "name": "python3"
  },
  "language_info": {
   "codemirror_mode": {
    "name": "ipython",
    "version": 3
   },
   "file_extension": ".py",
   "mimetype": "text/x-python",
   "name": "python",
   "nbconvert_exporter": "python",
   "pygments_lexer": "ipython3",
   "version": "3.12.3"
  }
 },
 "nbformat": 4,
 "nbformat_minor": 2
}
