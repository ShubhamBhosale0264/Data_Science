{
 "cells": [
  {
   "cell_type": "code",
   "execution_count": 1,
   "metadata": {},
   "outputs": [],
   "source": [
    "import numpy as np\n",
    "from scipy.stats import f"
   ]
  },
  {
   "cell_type": "code",
   "execution_count": 2,
   "metadata": {},
   "outputs": [],
   "source": [
    "nitrogen = np.array([6, 4, 8, 6])\n",
    "potash = np.array([7, 6, 6, 9])\n",
    "phosphates = np.array([8, 5, 10, 9])\n",
    "\n",
    "mean_nitrogen = np.mean(nitrogen)\n",
    "mean_potash = np.mean(potash)\n",
    "mean_phosphates = np.mean(phosphates)\n",
    "\n",
    "overall_mean = np.mean(np.concatenate((nitrogen, potash, phosphates)))"
   ]
  },
  {
   "cell_type": "code",
   "execution_count": 3,
   "metadata": {},
   "outputs": [
    {
     "name": "stdout",
     "output_type": "stream",
     "text": [
      "ANOVA Test Results:\n",
      "F-statistic: 1.2857142857142856\n",
      "p-value: 0.3227378396517848\n"
     ]
    }
   ],
   "source": [
    "SSB = (len(nitrogen) * (mean_nitrogen - overall_mean)**2 +\n",
    "       len(potash) * (mean_potash - overall_mean)**2 +\n",
    "       len(phosphates) * (mean_phosphates - overall_mean)**2)\n",
    "\n",
    "MSB = SSB / 2  \n",
    "\n",
    "SSW = (np.sum((nitrogen - mean_nitrogen)**2) +\n",
    "       np.sum((potash - mean_potash)**2) +\n",
    "       np.sum((phosphates - mean_phosphates)**2))\n",
    "\n",
    "MSW = SSW / (len(nitrogen) + len(potash) + len(phosphates) - 3)\n",
    "\n",
    "F_statistic = MSB / MSW\n",
    "\n",
    "p_value = 1 - f.cdf(F_statistic, 2, len(nitrogen) + len(potash) + len(phosphates) - 3)\n",
    "\n",
    "print(\"ANOVA Test Results:\")\n",
    "print(\"F-statistic:\", F_statistic)\n",
    "print(\"p-value:\", p_value)"
   ]
  },
  {
   "cell_type": "code",
   "execution_count": 5,
   "metadata": {},
   "outputs": [
    {
     "name": "stdout",
     "output_type": "stream",
     "text": [
      "Difference between groups 1 and 2 is not significant.\n",
      "Difference between groups 1 and 3 is significant.\n",
      "Difference between groups 2 and 3 is not significant.\n"
     ]
    }
   ],
   "source": [
    "def tukey_hsd(*args):\n",
    "    means = [np.mean(arg) for arg in args]\n",
    "    n = np.array([len(arg) for arg in args])\n",
    "    std_err = np.sqrt(MSW / n)\n",
    "    q = 2.228  \n",
    "    for i in range(len(args)):\n",
    "        for j in range(i + 1, len(args)):\n",
    "            diff = abs(means[i] - means[j])\n",
    "            crit_val = q * std_err[i]\n",
    "            if diff > crit_val:\n",
    "                print(f\"Difference between groups {i+1} and {j+1} is significant.\")\n",
    "            else:\n",
    "                print(f\"Difference between groups {i+1} and {j+1} is not significant.\")\n",
    "\n",
    "tukey_hsd(nitrogen, potash, phosphates)"
   ]
  },
  {
   "cell_type": "code",
   "execution_count": null,
   "metadata": {},
   "outputs": [],
   "source": []
  }
 ],
 "metadata": {
  "kernelspec": {
   "display_name": "Python 3",
   "language": "python",
   "name": "python3"
  },
  "language_info": {
   "codemirror_mode": {
    "name": "ipython",
    "version": 3
   },
   "file_extension": ".py",
   "mimetype": "text/x-python",
   "name": "python",
   "nbconvert_exporter": "python",
   "pygments_lexer": "ipython3",
   "version": "3.12.3"
  }
 },
 "nbformat": 4,
 "nbformat_minor": 2
}
