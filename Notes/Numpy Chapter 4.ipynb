{
 "cells": [
  {
   "cell_type": "markdown",
   "id": "195ace49",
   "metadata": {},
   "source": [
    "# Vectorization & Selection in an array"
   ]
  },
  {
   "cell_type": "code",
   "execution_count": 1,
   "id": "a2e84878",
   "metadata": {},
   "outputs": [
    {
     "data": {
      "text/plain": [
       "[1, 2, 3, 4, 5, 6, 7, 8, 9, 10]"
      ]
     },
     "execution_count": 1,
     "metadata": {},
     "output_type": "execute_result"
    }
   ],
   "source": [
    "x = list(range(1,11))\n",
    "x"
   ]
  },
  {
   "cell_type": "code",
   "execution_count": 2,
   "id": "381308bc",
   "metadata": {},
   "outputs": [
    {
     "data": {
      "text/plain": [
       "[1, 2, 3, 4, 5, 6, 7, 8, 9, 10, 1, 2, 3, 4, 5, 6, 7, 8, 9, 10]"
      ]
     },
     "execution_count": 2,
     "metadata": {},
     "output_type": "execute_result"
    }
   ],
   "source": [
    "x*2 #replication"
   ]
  },
  {
   "cell_type": "code",
   "execution_count": 2,
   "id": "cea6c8e8",
   "metadata": {},
   "outputs": [],
   "source": [
    "import numpy as np"
   ]
  },
  {
   "cell_type": "code",
   "execution_count": 3,
   "id": "91d9bbe9",
   "metadata": {},
   "outputs": [
    {
     "data": {
      "text/plain": [
       "array([ 1,  2,  3,  4,  5,  6,  7,  8,  9, 10])"
      ]
     },
     "execution_count": 3,
     "metadata": {},
     "output_type": "execute_result"
    }
   ],
   "source": [
    "a = np.arange(1,11)\n",
    "a"
   ]
  },
  {
   "cell_type": "code",
   "execution_count": 6,
   "id": "896d73d9",
   "metadata": {},
   "outputs": [
    {
     "data": {
      "text/plain": [
       "array([ 2,  4,  6,  8, 10, 12, 14, 16, 18, 20])"
      ]
     },
     "execution_count": 6,
     "metadata": {},
     "output_type": "execute_result"
    }
   ],
   "source": [
    "a*2"
   ]
  },
  {
   "cell_type": "code",
   "execution_count": 7,
   "id": "dd963fa2",
   "metadata": {},
   "outputs": [
    {
     "data": {
      "text/plain": [
       "array([ 1,  2,  3,  4,  5,  6,  7,  8,  9, 10])"
      ]
     },
     "execution_count": 7,
     "metadata": {},
     "output_type": "execute_result"
    }
   ],
   "source": [
    "a"
   ]
  },
  {
   "cell_type": "code",
   "execution_count": 8,
   "id": "39d70395",
   "metadata": {},
   "outputs": [
    {
     "data": {
      "text/plain": [
       "array([101, 102, 103, 104, 105, 106, 107, 108, 109, 110])"
      ]
     },
     "execution_count": 8,
     "metadata": {},
     "output_type": "execute_result"
    }
   ],
   "source": [
    "a+100"
   ]
  },
  {
   "cell_type": "code",
   "execution_count": 9,
   "id": "663d8c16",
   "metadata": {},
   "outputs": [
    {
     "data": {
      "text/plain": [
       "array([ 1,  2,  3,  4,  5,  6,  7,  8,  9, 10])"
      ]
     },
     "execution_count": 9,
     "metadata": {},
     "output_type": "execute_result"
    }
   ],
   "source": [
    "a"
   ]
  },
  {
   "cell_type": "code",
   "execution_count": 10,
   "id": "7c49dbe3",
   "metadata": {},
   "outputs": [
    {
     "data": {
      "text/plain": [
       "array([-1,  0,  1,  2,  3,  4,  5,  6,  7,  8])"
      ]
     },
     "execution_count": 10,
     "metadata": {},
     "output_type": "execute_result"
    }
   ],
   "source": [
    "a-2"
   ]
  },
  {
   "cell_type": "code",
   "execution_count": 11,
   "id": "daadc905",
   "metadata": {},
   "outputs": [
    {
     "data": {
      "text/plain": [
       "array([ 1,  2,  3,  4,  5,  6,  7,  8,  9, 10])"
      ]
     },
     "execution_count": 11,
     "metadata": {},
     "output_type": "execute_result"
    }
   ],
   "source": [
    "a"
   ]
  },
  {
   "cell_type": "code",
   "execution_count": 12,
   "id": "42c8f6ce",
   "metadata": {},
   "outputs": [
    {
     "data": {
      "text/plain": [
       "array([0.1, 0.2, 0.3, 0.4, 0.5, 0.6, 0.7, 0.8, 0.9, 1. ])"
      ]
     },
     "execution_count": 12,
     "metadata": {},
     "output_type": "execute_result"
    }
   ],
   "source": [
    "a/10"
   ]
  },
  {
   "cell_type": "code",
   "execution_count": 13,
   "id": "8a0674c2",
   "metadata": {},
   "outputs": [
    {
     "data": {
      "text/plain": [
       "array([0.5, 1. , 1.5, 2. , 2.5, 3. , 3.5, 4. , 4.5, 5. ])"
      ]
     },
     "execution_count": 13,
     "metadata": {},
     "output_type": "execute_result"
    }
   ],
   "source": [
    "a/2"
   ]
  },
  {
   "cell_type": "markdown",
   "id": "8da18141",
   "metadata": {},
   "source": [
    "# Vectorization with comparison operators"
   ]
  },
  {
   "cell_type": "code",
   "execution_count": 14,
   "id": "57d2636d",
   "metadata": {},
   "outputs": [
    {
     "data": {
      "text/plain": [
       "array([ 1,  2,  3,  4,  5,  6,  7,  8,  9, 10])"
      ]
     },
     "execution_count": 14,
     "metadata": {},
     "output_type": "execute_result"
    }
   ],
   "source": [
    "a"
   ]
  },
  {
   "cell_type": "code",
   "execution_count": 15,
   "id": "9e4f34da",
   "metadata": {},
   "outputs": [
    {
     "data": {
      "text/plain": [
       "False"
      ]
     },
     "execution_count": 15,
     "metadata": {},
     "output_type": "execute_result"
    }
   ],
   "source": [
    "3>4"
   ]
  },
  {
   "cell_type": "code",
   "execution_count": 16,
   "id": "88588a25",
   "metadata": {},
   "outputs": [
    {
     "data": {
      "text/plain": [
       "array([False, False, False, False,  True,  True,  True,  True,  True,\n",
       "        True])"
      ]
     },
     "execution_count": 16,
     "metadata": {},
     "output_type": "execute_result"
    }
   ],
   "source": [
    "a>4"
   ]
  },
  {
   "cell_type": "code",
   "execution_count": 17,
   "id": "f4b2bb04",
   "metadata": {},
   "outputs": [
    {
     "data": {
      "text/plain": [
       "array([ 1,  2,  3,  4,  5,  6,  7,  8,  9, 10])"
      ]
     },
     "execution_count": 17,
     "metadata": {},
     "output_type": "execute_result"
    }
   ],
   "source": [
    "a"
   ]
  },
  {
   "cell_type": "code",
   "execution_count": 18,
   "id": "7d18968a",
   "metadata": {},
   "outputs": [
    {
     "data": {
      "text/plain": [
       "array([False,  True, False,  True, False,  True, False,  True, False,\n",
       "        True])"
      ]
     },
     "execution_count": 18,
     "metadata": {},
     "output_type": "execute_result"
    }
   ],
   "source": [
    "a%2==0"
   ]
  },
  {
   "cell_type": "markdown",
   "id": "1ebb09d1",
   "metadata": {},
   "source": [
    "### masking"
   ]
  },
  {
   "cell_type": "code",
   "execution_count": 19,
   "id": "7954c5c8",
   "metadata": {},
   "outputs": [
    {
     "data": {
      "text/plain": [
       "array([ 1,  2,  3,  4,  5,  6,  7,  8,  9, 10])"
      ]
     },
     "execution_count": 19,
     "metadata": {},
     "output_type": "execute_result"
    }
   ],
   "source": [
    "a"
   ]
  },
  {
   "cell_type": "code",
   "execution_count": 20,
   "id": "82c9dc56",
   "metadata": {},
   "outputs": [
    {
     "data": {
      "text/plain": [
       "array([False, False, False, False,  True,  True,  True,  True,  True,\n",
       "        True])"
      ]
     },
     "execution_count": 20,
     "metadata": {},
     "output_type": "execute_result"
    }
   ],
   "source": [
    "#what are all those numbers which are greater then 4\n",
    "a>4"
   ]
  },
  {
   "cell_type": "code",
   "execution_count": 4,
   "id": "8afa9d07",
   "metadata": {},
   "outputs": [],
   "source": [
    "mask = a>4"
   ]
  },
  {
   "cell_type": "code",
   "execution_count": 5,
   "id": "663dd0b5",
   "metadata": {},
   "outputs": [
    {
     "data": {
      "text/plain": [
       "array([ 5,  6,  7,  8,  9, 10])"
      ]
     },
     "execution_count": 5,
     "metadata": {},
     "output_type": "execute_result"
    }
   ],
   "source": [
    "a[mask]"
   ]
  },
  {
   "cell_type": "code",
   "execution_count": 6,
   "id": "17d7a328",
   "metadata": {},
   "outputs": [
    {
     "data": {
      "text/plain": [
       "array([False,  True, False,  True, False,  True, False,  True, False,\n",
       "        True])"
      ]
     },
     "execution_count": 6,
     "metadata": {},
     "output_type": "execute_result"
    }
   ],
   "source": [
    "#what are the even number in my array\n",
    "a%2==0"
   ]
  },
  {
   "cell_type": "code",
   "execution_count": 7,
   "id": "a72db1a6",
   "metadata": {},
   "outputs": [
    {
     "data": {
      "text/plain": [
       "array([ 2,  4,  6,  8, 10])"
      ]
     },
     "execution_count": 7,
     "metadata": {},
     "output_type": "execute_result"
    }
   ],
   "source": [
    "mask = a%2==0\n",
    "a[mask]"
   ]
  },
  {
   "cell_type": "markdown",
   "id": "b11d19ea",
   "metadata": {},
   "source": [
    "- vectorisation with comparison operators will give you the boolean value i.e True or False\n",
    "- Masking will give you the actual value for which the condition was True"
   ]
  },
  {
   "cell_type": "markdown",
   "id": "688f6363",
   "metadata": {},
   "source": [
    "### Selection in array "
   ]
  },
  {
   "cell_type": "code",
   "execution_count": 9,
   "id": "0096b9a5",
   "metadata": {},
   "outputs": [],
   "source": [
    "names=np.array([\"jay\", \"raj\", \"jay\", \"kumar\", \"mrityunjay\", \"kumar\", \"jay\", \"rohit\", \"suraj\", \"ravi\"])"
   ]
  },
  {
   "cell_type": "code",
   "execution_count": 10,
   "id": "0609e740",
   "metadata": {},
   "outputs": [
    {
     "data": {
      "text/plain": [
       "array([ True, False,  True, False, False, False,  True, False, False,\n",
       "       False])"
      ]
     },
     "execution_count": 10,
     "metadata": {},
     "output_type": "execute_result"
    }
   ],
   "source": [
    "#select all the names, where the value is jay\n",
    "names==\"jay\""
   ]
  },
  {
   "cell_type": "code",
   "execution_count": 11,
   "id": "11b1ccdf",
   "metadata": {},
   "outputs": [],
   "source": [
    "mask = names==\"jay\""
   ]
  },
  {
   "cell_type": "code",
   "execution_count": 12,
   "id": "a44132ed",
   "metadata": {},
   "outputs": [
    {
     "data": {
      "text/plain": [
       "array(['jay', 'jay', 'jay'], dtype='<U10')"
      ]
     },
     "execution_count": 12,
     "metadata": {},
     "output_type": "execute_result"
    }
   ],
   "source": [
    "names[mask]"
   ]
  },
  {
   "cell_type": "code",
   "execution_count": 13,
   "id": "e27a98fa",
   "metadata": {},
   "outputs": [
    {
     "data": {
      "text/plain": [
       "array(['jay', 'jay', 'jay'], dtype='<U10')"
      ]
     },
     "execution_count": 13,
     "metadata": {},
     "output_type": "execute_result"
    }
   ],
   "source": [
    "names[names==\"jay\"]"
   ]
  },
  {
   "cell_type": "code",
   "execution_count": 14,
   "id": "9fd4b85b",
   "metadata": {},
   "outputs": [
    {
     "data": {
      "text/plain": [
       "array(['raj', 'kumar', 'mrityunjay', 'kumar', 'rohit', 'suraj', 'ravi'],\n",
       "      dtype='<U10')"
      ]
     },
     "execution_count": 14,
     "metadata": {},
     "output_type": "execute_result"
    }
   ],
   "source": [
    "#select all the names, where the values is not jay\n",
    "names[names!=\"jay\"]"
   ]
  },
  {
   "cell_type": "code",
   "execution_count": 15,
   "id": "1f43ba74",
   "metadata": {},
   "outputs": [
    {
     "data": {
      "text/plain": [
       "array(['jay', 'raj', 'jay', 'kumar', 'mrityunjay', 'kumar', 'jay',\n",
       "       'rohit', 'suraj', 'ravi'], dtype='<U10')"
      ]
     },
     "execution_count": 15,
     "metadata": {},
     "output_type": "execute_result"
    }
   ],
   "source": [
    "names"
   ]
  },
  {
   "cell_type": "code",
   "execution_count": 16,
   "id": "b5591b6a",
   "metadata": {},
   "outputs": [],
   "source": [
    "#select all the names except jay and kumar \n",
    "cond1= (names!=\"jay\")\n",
    "cond2= (names!=\"kumar\")"
   ]
  },
  {
   "cell_type": "code",
   "execution_count": 17,
   "id": "a8207680",
   "metadata": {},
   "outputs": [
    {
     "data": {
      "text/plain": [
       "array([False,  True, False,  True,  True,  True, False,  True,  True,\n",
       "        True])"
      ]
     },
     "execution_count": 17,
     "metadata": {},
     "output_type": "execute_result"
    }
   ],
   "source": [
    "cond1"
   ]
  },
  {
   "cell_type": "code",
   "execution_count": 18,
   "id": "f613428e",
   "metadata": {},
   "outputs": [
    {
     "data": {
      "text/plain": [
       "array([ True,  True,  True, False,  True, False,  True,  True,  True,\n",
       "        True])"
      ]
     },
     "execution_count": 18,
     "metadata": {},
     "output_type": "execute_result"
    }
   ],
   "source": [
    "cond2"
   ]
  },
  {
   "cell_type": "code",
   "execution_count": 33,
   "id": "8f5a5e4d",
   "metadata": {},
   "outputs": [],
   "source": [
    "#=> and operator\n",
    "#here in numpy \n",
    "#and => &\n",
    "#or  => |"
   ]
  },
  {
   "cell_type": "code",
   "execution_count": 34,
   "id": "0328748c",
   "metadata": {},
   "outputs": [
    {
     "data": {
      "text/plain": [
       "array([False,  True, False, False,  True, False, False,  True,  True,\n",
       "        True])"
      ]
     },
     "execution_count": 34,
     "metadata": {},
     "output_type": "execute_result"
    }
   ],
   "source": [
    "cond1 & cond2"
   ]
  },
  {
   "cell_type": "code",
   "execution_count": 35,
   "id": "451e2b87",
   "metadata": {},
   "outputs": [
    {
     "data": {
      "text/plain": [
       "array(['raj', 'mrityunjay', 'rohit', 'suraj', 'ravi'], dtype='<U10')"
      ]
     },
     "execution_count": 35,
     "metadata": {},
     "output_type": "execute_result"
    }
   ],
   "source": [
    "names[cond1 & cond2]"
   ]
  },
  {
   "cell_type": "code",
   "execution_count": 36,
   "id": "81e19876",
   "metadata": {},
   "outputs": [
    {
     "data": {
      "text/plain": [
       "array(['raj', 'mrityunjay', 'rohit', 'suraj', 'ravi'], dtype='<U10')"
      ]
     },
     "execution_count": 36,
     "metadata": {},
     "output_type": "execute_result"
    }
   ],
   "source": [
    "names[(names!=\"jay\")&(names!=\"kumar\")]"
   ]
  },
  {
   "cell_type": "code",
   "execution_count": 37,
   "id": "e42e6720",
   "metadata": {},
   "outputs": [
    {
     "data": {
      "text/plain": [
       "array(['jay', 'jay', 'kumar', 'kumar', 'jay'], dtype='<U10')"
      ]
     },
     "execution_count": 37,
     "metadata": {},
     "output_type": "execute_result"
    }
   ],
   "source": [
    "#select all those naems where name is jay and kumar\n",
    "names[(names==\"jay\")|(names==\"kumar\")]"
   ]
  },
  {
   "cell_type": "code",
   "execution_count": 38,
   "id": "92e6d14f",
   "metadata": {},
   "outputs": [
    {
     "data": {
      "text/plain": [
       "array([ True,  True,  True,  True, False,  True,  True,  True,  True,\n",
       "        True])"
      ]
     },
     "execution_count": 38,
     "metadata": {},
     "output_type": "execute_result"
    }
   ],
   "source": [
    "#select all the values which is not mrityunjay, and assign then as shiv\n",
    "#step1\n",
    "\n",
    "names!=\"mrityunjay\""
   ]
  },
  {
   "cell_type": "code",
   "execution_count": 39,
   "id": "21c8bb62",
   "metadata": {},
   "outputs": [
    {
     "data": {
      "text/plain": [
       "array(['jay', 'raj', 'jay', 'kumar', 'kumar', 'jay', 'rohit', 'suraj',\n",
       "       'ravi'], dtype='<U10')"
      ]
     },
     "execution_count": 39,
     "metadata": {},
     "output_type": "execute_result"
    }
   ],
   "source": [
    "#step2\n",
    "names[names!=\"mrityunjay\"]"
   ]
  },
  {
   "cell_type": "code",
   "execution_count": 40,
   "id": "21f76187",
   "metadata": {},
   "outputs": [],
   "source": [
    "#step3\n",
    "names[names!=\"mrityunjay\"] = \"shiv\""
   ]
  },
  {
   "cell_type": "code",
   "execution_count": 41,
   "id": "40ae0e1e",
   "metadata": {},
   "outputs": [
    {
     "data": {
      "text/plain": [
       "array(['shiv', 'shiv', 'shiv', 'shiv', 'mrityunjay', 'shiv', 'shiv',\n",
       "       'shiv', 'shiv', 'shiv'], dtype='<U10')"
      ]
     },
     "execution_count": 41,
     "metadata": {},
     "output_type": "execute_result"
    }
   ],
   "source": [
    "names"
   ]
  },
  {
   "cell_type": "code",
   "execution_count": 42,
   "id": "7df73515",
   "metadata": {},
   "outputs": [
    {
     "data": {
      "text/plain": [
       "array(['mrityunjay', 'shiv'], dtype='<U10')"
      ]
     },
     "execution_count": 42,
     "metadata": {},
     "output_type": "execute_result"
    }
   ],
   "source": [
    "np.unique(names)"
   ]
  },
  {
   "cell_type": "markdown",
   "id": "d5330106",
   "metadata": {},
   "source": [
    "# Summary"
   ]
  },
  {
   "cell_type": "code",
   "execution_count": 43,
   "id": "93113918",
   "metadata": {},
   "outputs": [
    {
     "data": {
      "text/plain": [
       "array([ 1,  2,  3,  4,  5,  6,  7,  8,  9, 10])"
      ]
     },
     "execution_count": 43,
     "metadata": {},
     "output_type": "execute_result"
    }
   ],
   "source": [
    "a #array"
   ]
  },
  {
   "cell_type": "code",
   "execution_count": 44,
   "id": "6386f0c6",
   "metadata": {},
   "outputs": [
    {
     "data": {
      "text/plain": [
       "array([ 2,  4,  6,  8, 10, 12, 14, 16, 18, 20])"
      ]
     },
     "execution_count": 44,
     "metadata": {},
     "output_type": "execute_result"
    }
   ],
   "source": [
    "a*2 #vectorization with arithmetic operator"
   ]
  },
  {
   "cell_type": "code",
   "execution_count": 45,
   "id": "ece9e685",
   "metadata": {},
   "outputs": [
    {
     "data": {
      "text/plain": [
       "array([False, False, False, False, False,  True,  True,  True,  True,\n",
       "        True])"
      ]
     },
     "execution_count": 45,
     "metadata": {},
     "output_type": "execute_result"
    }
   ],
   "source": [
    "a>5 #vectorization with comparison operator"
   ]
  },
  {
   "cell_type": "code",
   "execution_count": 46,
   "id": "368a489f",
   "metadata": {},
   "outputs": [
    {
     "data": {
      "text/plain": [
       "array([ 6,  7,  8,  9, 10])"
      ]
     },
     "execution_count": 46,
     "metadata": {},
     "output_type": "execute_result"
    }
   ],
   "source": [
    "a[a>5] #masking "
   ]
  }
 ],
 "metadata": {
  "kernelspec": {
   "display_name": "Python 3 (ipykernel)",
   "language": "python",
   "name": "python3"
  },
  "language_info": {
   "codemirror_mode": {
    "name": "ipython",
    "version": 3
   },
   "file_extension": ".py",
   "mimetype": "text/x-python",
   "name": "python",
   "nbconvert_exporter": "python",
   "pygments_lexer": "ipython3",
   "version": "3.9.12"
  }
 },
 "nbformat": 4,
 "nbformat_minor": 5
}
