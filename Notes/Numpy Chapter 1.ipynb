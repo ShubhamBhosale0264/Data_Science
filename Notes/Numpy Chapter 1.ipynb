{
 "cells": [
  {
   "cell_type": "markdown",
   "id": "830a01be",
   "metadata": {},
   "source": [
    "# Attributes & Function in Numpy"
   ]
  },
  {
   "cell_type": "code",
   "execution_count": 1,
   "id": "0ddc97e4",
   "metadata": {},
   "outputs": [],
   "source": [
    "#pip install numpy"
   ]
  },
  {
   "cell_type": "code",
   "execution_count": 2,
   "id": "b96cdd9f",
   "metadata": {},
   "outputs": [],
   "source": [
    "import numpy as np"
   ]
  },
  {
   "cell_type": "code",
   "execution_count": 3,
   "id": "21648783",
   "metadata": {},
   "outputs": [],
   "source": [
    "x = [1, 2, 3, 4, 5]"
   ]
  },
  {
   "cell_type": "code",
   "execution_count": 4,
   "id": "4aefbf43",
   "metadata": {},
   "outputs": [
    {
     "data": {
      "text/plain": [
       "[1, 2, 3, 4, 5]"
      ]
     },
     "execution_count": 4,
     "metadata": {},
     "output_type": "execute_result"
    }
   ],
   "source": [
    "x"
   ]
  },
  {
   "cell_type": "code",
   "execution_count": 5,
   "id": "9a80ecd5",
   "metadata": {},
   "outputs": [
    {
     "data": {
      "text/plain": [
       "list"
      ]
     },
     "execution_count": 5,
     "metadata": {},
     "output_type": "execute_result"
    }
   ],
   "source": [
    "type(x)"
   ]
  },
  {
   "cell_type": "code",
   "execution_count": 6,
   "id": "d1d16c43",
   "metadata": {},
   "outputs": [],
   "source": [
    "a = np.array(x)"
   ]
  },
  {
   "cell_type": "code",
   "execution_count": 7,
   "id": "2c850df8",
   "metadata": {},
   "outputs": [
    {
     "data": {
      "text/plain": [
       "array([1, 2, 3, 4, 5])"
      ]
     },
     "execution_count": 7,
     "metadata": {},
     "output_type": "execute_result"
    }
   ],
   "source": [
    "a"
   ]
  },
  {
   "cell_type": "code",
   "execution_count": 8,
   "id": "4f95577d",
   "metadata": {
    "scrolled": true
   },
   "outputs": [
    {
     "data": {
      "text/plain": [
       "numpy.ndarray"
      ]
     },
     "execution_count": 8,
     "metadata": {},
     "output_type": "execute_result"
    }
   ],
   "source": [
    "type(a)"
   ]
  },
  {
   "cell_type": "markdown",
   "id": "5313bbaa",
   "metadata": {},
   "source": [
    "# Creating a numpy array of 2D"
   ]
  },
  {
   "cell_type": "code",
   "execution_count": 2,
   "id": "d94ff49e",
   "metadata": {
    "scrolled": true
   },
   "outputs": [
    {
     "data": {
      "text/plain": [
       "array([[1, 2, 3],\n",
       "       [4, 5, 6]])"
      ]
     },
     "execution_count": 2,
     "metadata": {},
     "output_type": "execute_result"
    }
   ],
   "source": [
    "import numpy as np\n",
    "a = np.array([[1,2,3], [4,5,6]])\n",
    "a"
   ]
  },
  {
   "cell_type": "markdown",
   "id": "c5bfdeb6",
   "metadata": {},
   "source": [
    "# Attributes & Methods of Numpy"
   ]
  },
  {
   "cell_type": "markdown",
   "id": "196bab81",
   "metadata": {},
   "source": [
    "#### 1. Shape -: return the shape of an array"
   ]
  },
  {
   "cell_type": "code",
   "execution_count": 10,
   "id": "6b1ae74f",
   "metadata": {},
   "outputs": [
    {
     "data": {
      "text/plain": [
       "(2, 3)"
      ]
     },
     "execution_count": 10,
     "metadata": {},
     "output_type": "execute_result"
    }
   ],
   "source": [
    "a.shape  #row, col inside a tuple"
   ]
  },
  {
   "cell_type": "markdown",
   "id": "2f66ada8",
   "metadata": {},
   "source": [
    "#### 2.size -: returns the total number of elements present in an array"
   ]
  },
  {
   "cell_type": "code",
   "execution_count": 11,
   "id": "f55ca92a",
   "metadata": {},
   "outputs": [
    {
     "data": {
      "text/plain": [
       "6"
      ]
     },
     "execution_count": 11,
     "metadata": {},
     "output_type": "execute_result"
    }
   ],
   "source": [
    "a.size"
   ]
  },
  {
   "cell_type": "markdown",
   "id": "88b1e8dc",
   "metadata": {},
   "source": [
    "#### 3.Transpose -: returns an by array by swaping the row into col & viz"
   ]
  },
  {
   "cell_type": "code",
   "execution_count": 3,
   "id": "c98c2315",
   "metadata": {},
   "outputs": [
    {
     "data": {
      "text/plain": [
       "array([[1, 2, 3],\n",
       "       [4, 5, 6]])"
      ]
     },
     "execution_count": 3,
     "metadata": {},
     "output_type": "execute_result"
    }
   ],
   "source": [
    "a"
   ]
  },
  {
   "cell_type": "code",
   "execution_count": 13,
   "id": "c1cc964a",
   "metadata": {},
   "outputs": [
    {
     "data": {
      "text/plain": [
       "array([[1, 4],\n",
       "       [2, 5],\n",
       "       [3, 6]])"
      ]
     },
     "execution_count": 13,
     "metadata": {},
     "output_type": "execute_result"
    }
   ],
   "source": [
    "a.T"
   ]
  },
  {
   "cell_type": "markdown",
   "id": "aef40a69",
   "metadata": {},
   "source": [
    "#### 4.NDim -: return the number of dimensions an array"
   ]
  },
  {
   "cell_type": "code",
   "execution_count": 14,
   "id": "cb9bc385",
   "metadata": {},
   "outputs": [
    {
     "data": {
      "text/plain": [
       "array([[1, 2, 3],\n",
       "       [4, 5, 6]])"
      ]
     },
     "execution_count": 14,
     "metadata": {},
     "output_type": "execute_result"
    }
   ],
   "source": [
    "a"
   ]
  },
  {
   "cell_type": "code",
   "execution_count": 15,
   "id": "b3f31f0c",
   "metadata": {},
   "outputs": [
    {
     "data": {
      "text/plain": [
       "2"
      ]
     },
     "execution_count": 15,
     "metadata": {},
     "output_type": "execute_result"
    }
   ],
   "source": [
    "a.ndim"
   ]
  },
  {
   "cell_type": "markdown",
   "id": "36458e84",
   "metadata": {},
   "source": [
    "#### 5. Reshape-: used to change the shape of an array"
   ]
  },
  {
   "cell_type": "code",
   "execution_count": 4,
   "id": "7c46267b",
   "metadata": {},
   "outputs": [
    {
     "data": {
      "text/plain": [
       "array([[1, 2, 3],\n",
       "       [4, 5, 6]])"
      ]
     },
     "execution_count": 4,
     "metadata": {},
     "output_type": "execute_result"
    }
   ],
   "source": [
    "a"
   ]
  },
  {
   "cell_type": "code",
   "execution_count": 5,
   "id": "d9cd1294",
   "metadata": {},
   "outputs": [
    {
     "data": {
      "text/plain": [
       "(2, 3)"
      ]
     },
     "execution_count": 5,
     "metadata": {},
     "output_type": "execute_result"
    }
   ],
   "source": [
    "a.shape"
   ]
  },
  {
   "cell_type": "code",
   "execution_count": 14,
   "id": "3d0973a9",
   "metadata": {},
   "outputs": [
    {
     "data": {
      "text/plain": [
       "array([[1, 2, 3, 4, 5, 6]])"
      ]
     },
     "execution_count": 14,
     "metadata": {},
     "output_type": "execute_result"
    }
   ],
   "source": [
    "a.reshape(1,6)"
   ]
  },
  {
   "cell_type": "code",
   "execution_count": 15,
   "id": "c5633376",
   "metadata": {},
   "outputs": [
    {
     "data": {
      "text/plain": [
       "array([[1, 2, 3],\n",
       "       [4, 5, 6]])"
      ]
     },
     "execution_count": 15,
     "metadata": {},
     "output_type": "execute_result"
    }
   ],
   "source": [
    "a.reshape(2,3)"
   ]
  },
  {
   "cell_type": "code",
   "execution_count": 20,
   "id": "50ce880f",
   "metadata": {},
   "outputs": [
    {
     "data": {
      "text/plain": [
       "array([[1, 2, 3],\n",
       "       [4, 5, 6]])"
      ]
     },
     "execution_count": 20,
     "metadata": {},
     "output_type": "execute_result"
    }
   ],
   "source": [
    "a"
   ]
  },
  {
   "cell_type": "code",
   "execution_count": 21,
   "id": "c445ca7e",
   "metadata": {},
   "outputs": [],
   "source": [
    "a= a.reshape(3,2)"
   ]
  },
  {
   "cell_type": "code",
   "execution_count": 22,
   "id": "36789859",
   "metadata": {},
   "outputs": [
    {
     "data": {
      "text/plain": [
       "array([[1, 2],\n",
       "       [3, 4],\n",
       "       [5, 6]])"
      ]
     },
     "execution_count": 22,
     "metadata": {},
     "output_type": "execute_result"
    }
   ],
   "source": [
    "a"
   ]
  },
  {
   "cell_type": "code",
   "execution_count": 23,
   "id": "0a87fd4e",
   "metadata": {},
   "outputs": [
    {
     "data": {
      "text/plain": [
       "(3, 2)"
      ]
     },
     "execution_count": 23,
     "metadata": {},
     "output_type": "execute_result"
    }
   ],
   "source": [
    "a.shape"
   ]
  },
  {
   "cell_type": "code",
   "execution_count": 24,
   "id": "1058e5ae",
   "metadata": {},
   "outputs": [],
   "source": [
    "a.shape = (2, 3)"
   ]
  },
  {
   "cell_type": "code",
   "execution_count": 25,
   "id": "a0ac21e9",
   "metadata": {},
   "outputs": [
    {
     "data": {
      "text/plain": [
       "array([[1, 2, 3],\n",
       "       [4, 5, 6]])"
      ]
     },
     "execution_count": 25,
     "metadata": {},
     "output_type": "execute_result"
    }
   ],
   "source": [
    "a"
   ]
  },
  {
   "cell_type": "markdown",
   "id": "3b9145ab",
   "metadata": {},
   "source": [
    "# Functions in Numpy"
   ]
  },
  {
   "cell_type": "code",
   "execution_count": 26,
   "id": "a1dba24d",
   "metadata": {},
   "outputs": [
    {
     "data": {
      "text/plain": [
       "array([[1, 2, 3],\n",
       "       [4, 5, 6]])"
      ]
     },
     "execution_count": 26,
     "metadata": {},
     "output_type": "execute_result"
    }
   ],
   "source": [
    "np.array([1,2,3,4,5,6]).reshape(2, 3)"
   ]
  },
  {
   "cell_type": "code",
   "execution_count": 16,
   "id": "169e18e1",
   "metadata": {},
   "outputs": [],
   "source": [
    "a = np.array([1,2,3,4,5,6]).reshape(2, 3)\n",
    "b = np.array([7,8,9,10,11,12]).reshape(2,3)"
   ]
  },
  {
   "cell_type": "code",
   "execution_count": 28,
   "id": "b9cf8524",
   "metadata": {},
   "outputs": [
    {
     "data": {
      "text/plain": [
       "array([[1, 2, 3],\n",
       "       [4, 5, 6]])"
      ]
     },
     "execution_count": 28,
     "metadata": {},
     "output_type": "execute_result"
    }
   ],
   "source": [
    "a"
   ]
  },
  {
   "cell_type": "code",
   "execution_count": 29,
   "id": "1d3be3c4",
   "metadata": {},
   "outputs": [
    {
     "data": {
      "text/plain": [
       "array([[ 7,  8,  9],\n",
       "       [10, 11, 12]])"
      ]
     },
     "execution_count": 29,
     "metadata": {},
     "output_type": "execute_result"
    }
   ],
   "source": [
    "b"
   ]
  },
  {
   "cell_type": "markdown",
   "id": "0808773b",
   "metadata": {},
   "source": [
    "#### 1. Concatenate((arr1, arr2)) -: used to join two different array together"
   ]
  },
  {
   "cell_type": "code",
   "execution_count": 30,
   "id": "f5766952",
   "metadata": {},
   "outputs": [
    {
     "data": {
      "text/plain": [
       "array([[ 1,  2,  3],\n",
       "       [ 4,  5,  6],\n",
       "       [ 7,  8,  9],\n",
       "       [10, 11, 12]])"
      ]
     },
     "execution_count": 30,
     "metadata": {},
     "output_type": "execute_result"
    }
   ],
   "source": [
    "np.concatenate((a,b))"
   ]
  },
  {
   "cell_type": "markdown",
   "id": "bab9bda7",
   "metadata": {},
   "source": [
    "#### 2. Vstack((arr1, arr2)) -: used to join two different array together vertically"
   ]
  },
  {
   "cell_type": "code",
   "execution_count": 31,
   "id": "a24a9ce4",
   "metadata": {},
   "outputs": [
    {
     "data": {
      "text/plain": [
       "array([[ 1,  2,  3],\n",
       "       [ 4,  5,  6],\n",
       "       [ 7,  8,  9],\n",
       "       [10, 11, 12]])"
      ]
     },
     "execution_count": 31,
     "metadata": {},
     "output_type": "execute_result"
    }
   ],
   "source": [
    "np.vstack((a,b))"
   ]
  },
  {
   "cell_type": "markdown",
   "id": "192392a5",
   "metadata": {},
   "source": [
    "#### 3. Hstack((arr1, arr2)) -: used to join two different array together horizontally"
   ]
  },
  {
   "cell_type": "code",
   "execution_count": 32,
   "id": "b263117c",
   "metadata": {},
   "outputs": [
    {
     "data": {
      "text/plain": [
       "array([[ 1,  2,  3,  7,  8,  9],\n",
       "       [ 4,  5,  6, 10, 11, 12]])"
      ]
     },
     "execution_count": 32,
     "metadata": {},
     "output_type": "execute_result"
    }
   ],
   "source": [
    "np.hstack((a,b))"
   ]
  },
  {
   "cell_type": "code",
   "execution_count": 33,
   "id": "87c3bbd2",
   "metadata": {},
   "outputs": [],
   "source": [
    "c = np.array([21, 22, 23, 24, 25, 26 ,26])"
   ]
  },
  {
   "cell_type": "code",
   "execution_count": 34,
   "id": "07b266fb",
   "metadata": {},
   "outputs": [
    {
     "data": {
      "text/plain": [
       "array([21, 22, 23, 24, 25, 26, 26])"
      ]
     },
     "execution_count": 34,
     "metadata": {},
     "output_type": "execute_result"
    }
   ],
   "source": [
    "c"
   ]
  },
  {
   "cell_type": "markdown",
   "id": "170db672",
   "metadata": {},
   "source": [
    "#### 4. Append(arr, listofelement) -: used to add the elements in an array"
   ]
  },
  {
   "cell_type": "code",
   "execution_count": 35,
   "id": "bbadbc12",
   "metadata": {},
   "outputs": [
    {
     "data": {
      "text/plain": [
       "array([21, 22, 23, 24, 25, 26, 26, 27, 28, 29])"
      ]
     },
     "execution_count": 35,
     "metadata": {},
     "output_type": "execute_result"
    }
   ],
   "source": [
    "np.append(c, [27, 28, 29])"
   ]
  },
  {
   "cell_type": "markdown",
   "id": "0fb709df",
   "metadata": {},
   "source": [
    "#### 5. Insert(arr, index, element) -: used to add the elemenet in a specified position"
   ]
  },
  {
   "cell_type": "code",
   "execution_count": 36,
   "id": "0f881de7",
   "metadata": {},
   "outputs": [
    {
     "data": {
      "text/plain": [
       "array([21, 22, 23, 24, 25, 26, 26])"
      ]
     },
     "execution_count": 36,
     "metadata": {},
     "output_type": "execute_result"
    }
   ],
   "source": [
    "c"
   ]
  },
  {
   "cell_type": "code",
   "execution_count": 37,
   "id": "5117907d",
   "metadata": {},
   "outputs": [
    {
     "data": {
      "text/plain": [
       "array([21, 22, 23,  1,  2,  3, 24, 25, 26, 26])"
      ]
     },
     "execution_count": 37,
     "metadata": {},
     "output_type": "execute_result"
    }
   ],
   "source": [
    "np.insert(c, 3, [1,2,3])"
   ]
  },
  {
   "cell_type": "markdown",
   "id": "fdebdd41",
   "metadata": {},
   "source": [
    "#### 6. Delete(arr, listofelementindexvalue) -: used to delete the elements of specified index"
   ]
  },
  {
   "cell_type": "code",
   "execution_count": 38,
   "id": "0ba1a50b",
   "metadata": {},
   "outputs": [
    {
     "data": {
      "text/plain": [
       "array([21, 22, 23, 24, 25, 26, 26])"
      ]
     },
     "execution_count": 38,
     "metadata": {},
     "output_type": "execute_result"
    }
   ],
   "source": [
    "c"
   ]
  },
  {
   "cell_type": "code",
   "execution_count": 39,
   "id": "e21b4f48",
   "metadata": {},
   "outputs": [
    {
     "data": {
      "text/plain": [
       "array([21, 22, 23, 24, 25, 26])"
      ]
     },
     "execution_count": 39,
     "metadata": {},
     "output_type": "execute_result"
    }
   ],
   "source": [
    "np.delete(c,[-1])"
   ]
  },
  {
   "cell_type": "code",
   "execution_count": 40,
   "id": "fd119feb",
   "metadata": {},
   "outputs": [
    {
     "data": {
      "text/plain": [
       "array([21, 22, 23, 24, 25, 26, 26])"
      ]
     },
     "execution_count": 40,
     "metadata": {},
     "output_type": "execute_result"
    }
   ],
   "source": [
    "c"
   ]
  },
  {
   "cell_type": "code",
   "execution_count": 41,
   "id": "7391b5eb",
   "metadata": {},
   "outputs": [
    {
     "data": {
      "text/plain": [
       "array([21, 24, 25, 26, 26])"
      ]
     },
     "execution_count": 41,
     "metadata": {},
     "output_type": "execute_result"
    }
   ],
   "source": [
    "np.delete(c, [1, 2])"
   ]
  }
 ],
 "metadata": {
  "kernelspec": {
   "display_name": "Python 3 (ipykernel)",
   "language": "python",
   "name": "python3"
  },
  "language_info": {
   "codemirror_mode": {
    "name": "ipython",
    "version": 3
   },
   "file_extension": ".py",
   "mimetype": "text/x-python",
   "name": "python",
   "nbconvert_exporter": "python",
   "pygments_lexer": "ipython3",
   "version": "3.9.12"
  }
 },
 "nbformat": 4,
 "nbformat_minor": 5
}
