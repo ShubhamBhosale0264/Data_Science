{
 "cells": [
  {
   "cell_type": "code",
   "execution_count": null,
   "metadata": {
    "id": "WJ6yPuKeMhaa"
   },
   "outputs": [],
   "source": [
    "import matplotlib.pyplot as plt\n",
    "import seaborn as sns \n",
    "import numpy as np\n",
    "import pandas as pd"
   ]
  },
  {
   "cell_type": "code",
   "execution_count": null,
   "metadata": {
    "id": "xPG-ZMvqMmhY"
   },
   "outputs": [],
   "source": [
    "tips=sns.load_dataset('tips')"
   ]
  },
  {
   "cell_type": "code",
   "execution_count": null,
   "metadata": {
    "colab": {
     "base_uri": "https://localhost:8080/",
     "height": 424
    },
    "id": "P6eHjghtND7R",
    "outputId": "4c1d875c-d3e6-4bf2-ec58-af37ae82a314"
   },
   "outputs": [],
   "source": [
    "tips"
   ]
  },
  {
   "cell_type": "code",
   "execution_count": null,
   "metadata": {
    "colab": {
     "base_uri": "https://localhost:8080/",
     "height": 206
    },
    "id": "721JrAQnNHwz",
    "outputId": "d41c6372-33a1-4996-dc19-61d7bc00d1f4"
   },
   "outputs": [],
   "source": [
    "tips.head()"
   ]
  },
  {
   "cell_type": "code",
   "execution_count": null,
   "metadata": {
    "colab": {
     "base_uri": "https://localhost:8080/",
     "height": 387
    },
    "id": "Qf_xJNuXNKVr",
    "outputId": "a7f7ae1b-8363-48e6-c8b2-1b1da301c014"
   },
   "outputs": [],
   "source": [
    "sns.relplot(x='total_bill',y='tip',data=tips)"
   ]
  },
  {
   "cell_type": "code",
   "execution_count": null,
   "metadata": {
    "colab": {
     "base_uri": "https://localhost:8080/",
     "height": 387
    },
    "id": "GOGNR2seNUbG",
    "outputId": "dcfb3c52-5a62-4cbd-cd61-ac412cc1ac0f"
   },
   "outputs": [],
   "source": [
    "sns.relplot(x='total_bill',y='tip',data=tips,kind='line')"
   ]
  },
  {
   "cell_type": "code",
   "execution_count": null,
   "metadata": {
    "colab": {
     "base_uri": "https://localhost:8080/",
     "height": 387
    },
    "id": "8nT1WlydN_8H",
    "outputId": "f1acbdad-c691-4c86-b4da-cc65c2d0695f"
   },
   "outputs": [],
   "source": [
    "sns.relplot(x='total_bill',y='tip',data=tips,hue='smoker')"
   ]
  },
  {
   "cell_type": "code",
   "execution_count": null,
   "metadata": {
    "colab": {
     "base_uri": "https://localhost:8080/",
     "height": 387
    },
    "id": "QIe1fRrEOGeh",
    "outputId": "98d803d4-32ae-4ae8-d533-d2ce62ad2f26"
   },
   "outputs": [],
   "source": [
    "sns.relplot(x='total_bill',y='tip',data=tips,hue='smoker',style='time')"
   ]
  },
  {
   "cell_type": "code",
   "execution_count": null,
   "metadata": {
    "colab": {
     "base_uri": "https://localhost:8080/",
     "height": 302
    },
    "id": "lGLrKA5OOOlF",
    "outputId": "02d944b6-f78c-4482-e6c1-b580c0c6ae18"
   },
   "outputs": [],
   "source": [
    "\n",
    "sns.scatterplot(x =\"total_bill\",y =\"tip\",style =\"time\",data = tips)"
   ]
  },
  {
   "cell_type": "code",
   "execution_count": null,
   "metadata": {
    "colab": {
     "base_uri": "https://localhost:8080/",
     "height": 382
    },
    "id": "l3iCr9VePDky",
    "outputId": "b3bc699c-edbb-4f07-f999-37672348c031"
   },
   "outputs": [],
   "source": [
    "sns.catplot(x='day',y='total_bill',data=tips)"
   ]
  },
  {
   "cell_type": "code",
   "execution_count": null,
   "metadata": {
    "colab": {
     "base_uri": "https://localhost:8080/",
     "height": 302
    },
    "id": "-64i8yU5V0Nh",
    "outputId": "aebdd4d9-9a57-4f33-bff4-6fbee3acc797"
   },
   "outputs": [],
   "source": [
    "sns.barplot(x='day',y='total_bill',data=tips)"
   ]
  },
  {
   "cell_type": "code",
   "execution_count": null,
   "metadata": {
    "colab": {
     "base_uri": "https://localhost:8080/",
     "height": 302
    },
    "id": "rYuA7_txWA0K",
    "outputId": "b4f86bf3-23df-4242-85f5-1b22a2134e78"
   },
   "outputs": [],
   "source": [
    "sns.countplot(x='day',data=tips)"
   ]
  },
  {
   "cell_type": "code",
   "execution_count": null,
   "metadata": {
    "colab": {
     "base_uri": "https://localhost:8080/",
     "height": 382
    },
    "id": "HAzpWV2aP67y",
    "outputId": "a11ab246-2ecd-4458-d2ad-5bf2aa21c2b5"
   },
   "outputs": [],
   "source": [
    "sns.catplot(x='day',y='total_bill',data=tips,kind='swarm',hue='size')"
   ]
  },
  {
   "cell_type": "code",
   "execution_count": null,
   "metadata": {
    "colab": {
     "base_uri": "https://localhost:8080/",
     "height": 359
    },
    "id": "LARG0N0mQaDQ",
    "outputId": "2623bb92-1f5c-4a69-9e5a-d1c320a35a3f"
   },
   "outputs": [],
   "source": [
    "sns.distplot(tips['total_bill'])"
   ]
  },
  {
   "cell_type": "code",
   "execution_count": null,
   "metadata": {
    "colab": {
     "base_uri": "https://localhost:8080/",
     "height": 359
    },
    "id": "QW_T6_yARTJd",
    "outputId": "ab8b3105-1862-4d86-f7bd-b65d6a2f8b64"
   },
   "outputs": [],
   "source": [
    "sns.distplot(tips['total_bill'],kde=True)"
   ]
  },
  {
   "cell_type": "code",
   "execution_count": null,
   "metadata": {
    "colab": {
     "base_uri": "https://localhost:8080/",
     "height": 357
    },
    "id": "f-Q493g8RgV-",
    "outputId": "cad36c59-dc0b-4ed6-d394-8865543dd46c"
   },
   "outputs": [],
   "source": [
    "sns.distplot(tips['total_bill'],kde=True,hist=False)"
   ]
  },
  {
   "cell_type": "code",
   "execution_count": null,
   "metadata": {
    "colab": {
     "base_uri": "https://localhost:8080/",
     "height": 302
    },
    "id": "MPICZSUyRoks",
    "outputId": "df48f2c0-9cc1-4e3e-8427-bef4fce96dd8"
   },
   "outputs": [],
   "source": [
    "sns.kdeplot(tips['size'],shade=False,color='g',alpha=0.6)"
   ]
  },
  {
   "cell_type": "code",
   "execution_count": null,
   "metadata": {
    "colab": {
     "base_uri": "https://localhost:8080/",
     "height": 509
    },
    "id": "HMo1M9BnR3PX",
    "outputId": "4d92819d-e9f3-4873-bc0c-f25fec90a4c5"
   },
   "outputs": [],
   "source": [
    "sns.jointplot(tips['total_bill'],tips['tip'])"
   ]
  },
  {
   "cell_type": "code",
   "execution_count": null,
   "metadata": {
    "colab": {
     "base_uri": "https://localhost:8080/",
     "height": 454
    },
    "id": "VZ0reQ_GaLC6",
    "outputId": "83ffc3a2-f956-4822-f083-c6ab56ac273f"
   },
   "outputs": [],
   "source": [
    "sns.jointplot(x ='total_bill', y ='tip', data = tips, kind ='kde')\n",
    "# KDE shows the density where the points match up the most\n"
   ]
  },
  {
   "cell_type": "code",
   "execution_count": null,
   "metadata": {
    "colab": {
     "base_uri": "https://localhost:8080/",
     "height": 285
    },
    "id": "TIi8_4bJSONJ",
    "outputId": "a1358044-320d-4b53-d74d-d3551af0735b"
   },
   "outputs": [],
   "source": [
    "x=[2,3,4,4,5,4.5,4.5,9,12,13]\n",
    "y=list(range(0,10))\n",
    "sns.scatterplot(x,y)"
   ]
  },
  {
   "cell_type": "code",
   "execution_count": null,
   "metadata": {
    "colab": {
     "base_uri": "https://localhost:8080/",
     "height": 565
    },
    "id": "ADM5IRdQaw3r",
    "outputId": "b60a0acb-2d56-438f-ae47-63a6e700fd92"
   },
   "outputs": [],
   "source": [
    "sns.pairplot(tips)"
   ]
  },
  {
   "cell_type": "code",
   "execution_count": null,
   "metadata": {
    "colab": {
     "base_uri": "https://localhost:8080/",
     "height": 343
    },
    "id": "WELTGx2kSw_B",
    "outputId": "bbc6eb37-fba3-4354-d263-017d1d61cdd9"
   },
   "outputs": [],
   "source": [
    "sns.distplot(x)"
   ]
  },
  {
   "cell_type": "code",
   "execution_count": null,
   "metadata": {
    "colab": {
     "base_uri": "https://localhost:8080/",
     "height": 302
    },
    "id": "Th1zpa3cWceV",
    "outputId": "2bf8d68f-fd11-44a5-9f67-2c17d2fc1ddb"
   },
   "outputs": [],
   "source": [
    "sns.boxplot(x ='day', y ='total_bill', data = tips,hue='smoker')\n"
   ]
  },
  {
   "cell_type": "code",
   "execution_count": null,
   "metadata": {
    "colab": {
     "base_uri": "https://localhost:8080/",
     "height": 302
    },
    "id": "23smthpcWzfR",
    "outputId": "108e967d-7c2b-45b7-dc4a-5d3259a3728b"
   },
   "outputs": [],
   "source": [
    "sns.violinplot(x ='day', y ='total_bill', data = tips)\n"
   ]
  },
  {
   "cell_type": "code",
   "execution_count": null,
   "metadata": {
    "colab": {
     "base_uri": "https://localhost:8080/",
     "height": 302
    },
    "id": "rpZsy4dEW88c",
    "outputId": "b0641094-267c-41c4-c876-40e6f0c77c3c"
   },
   "outputs": [],
   "source": [
    "sns.violinplot(x ='day', y ='total_bill', data = tips,hue='sex',split=True)\n"
   ]
  },
  {
   "cell_type": "code",
   "execution_count": null,
   "metadata": {
    "colab": {
     "base_uri": "https://localhost:8080/",
     "height": 302
    },
    "id": "hgQXRpUSXoKh",
    "outputId": "56368e80-d693-426e-bb65-2a6d95b57354"
   },
   "outputs": [],
   "source": [
    "sns.stripplot(x ='day', y ='total_bill', data = tips)\n"
   ]
  },
  {
   "cell_type": "code",
   "execution_count": null,
   "metadata": {
    "colab": {
     "base_uri": "https://localhost:8080/",
     "height": 302
    },
    "id": "yGrolq4eX1tm",
    "outputId": "61b216d4-5e89-4e48-901d-33248002f279"
   },
   "outputs": [],
   "source": [
    "sns.stripplot(x ='day', y ='total_bill', data = tips,jitter = True,\n",
    "               hue ='smoker' ,dodge=True)"
   ]
  },
  {
   "cell_type": "code",
   "execution_count": null,
   "metadata": {
    "colab": {
     "base_uri": "https://localhost:8080/",
     "height": 340
    },
    "id": "0BLRwMStTLvk",
    "outputId": "e0a9cc0c-5e11-44a3-bd0f-889c29af89c5"
   },
   "outputs": [],
   "source": [
    "sns.boxplot(x)"
   ]
  },
  {
   "cell_type": "code",
   "execution_count": null,
   "metadata": {
    "colab": {
     "base_uri": "https://localhost:8080/",
     "height": 340
    },
    "id": "Lu7LuQkzTQ63",
    "outputId": "f150a48a-029a-4029-c9ff-6ef9789d9c59"
   },
   "outputs": [],
   "source": [
    "x=[2,3,4,4,5,4.5,4.5,9,12,13,60]\n",
    "sns.boxplot(x)\n"
   ]
  },
  {
   "cell_type": "code",
   "execution_count": null,
   "metadata": {
    "colab": {
     "base_uri": "https://localhost:8080/",
     "height": 340
    },
    "id": "y5s3KsWPTexw",
    "outputId": "f9de75ab-28dc-459a-e05b-88b3cd6cf330"
   },
   "outputs": [],
   "source": [
    "x=[-7,2,3,4,4,5,4.5,4.5,9,12,13]\n",
    "sns.boxplot(x)\n"
   ]
  },
  {
   "cell_type": "code",
   "execution_count": null,
   "metadata": {
    "colab": {
     "base_uri": "https://localhost:8080/",
     "height": 302
    },
    "id": "LXH-BHmBTknD",
    "outputId": "0b797b42-fa83-4400-cb39-dc816be9c5c1"
   },
   "outputs": [],
   "source": [
    "sns.regplot(x='total_bill',y='tip',data=tips)"
   ]
  },
  {
   "cell_type": "code",
   "execution_count": null,
   "metadata": {
    "id": "EVwZnffHT7E8"
   },
   "outputs": [],
   "source": [
    "sns.regplot(x='size',y='tip',data=tips)"
   ]
  },
  {
   "cell_type": "code",
   "execution_count": null,
   "metadata": {
    "id": "JI1i8r1ucdhv"
   },
   "outputs": [],
   "source": []
  },
  {
   "cell_type": "code",
   "execution_count": null,
   "metadata": {
    "colab": {
     "base_uri": "https://localhost:8080/",
     "height": 290
    },
    "id": "KjvMiZmRUEV1",
    "outputId": "89262330-d34d-4bd5-c386-ee8f01463ec4"
   },
   "outputs": [],
   "source": [
    "a=tips.corr()\n",
    "sns.heatmap(a)"
   ]
  },
  {
   "cell_type": "code",
   "execution_count": null,
   "metadata": {
    "colab": {
     "base_uri": "https://localhost:8080/",
     "height": 290
    },
    "id": "wZx_hwDpccgU",
    "outputId": "db46e3d5-d708-4547-f3a8-01076ea0ca4b"
   },
   "outputs": [],
   "source": [
    "sns.heatmap(tips.corr(),cmap='tab20')"
   ]
  },
  {
   "cell_type": "code",
   "execution_count": null,
   "metadata": {
    "colab": {
     "base_uri": "https://localhost:8080/",
     "height": 290
    },
    "id": "tR85SmoXUY1v",
    "outputId": "ecb9229f-cf93-4636-bc65-7dcfd721085c"
   },
   "outputs": [],
   "source": [
    "sns.heatmap(tips.corr(),cmap='tab20',annot=True)"
   ]
  },
  {
   "cell_type": "code",
   "execution_count": null,
   "metadata": {
    "colab": {
     "base_uri": "https://localhost:8080/",
     "height": 290
    },
    "id": "Udxj5uRmcz9l",
    "outputId": "dc007462-6a0f-4f92-8e10-8954e1a4c0d5"
   },
   "outputs": [],
   "source": [
    "sns.heatmap(tips.corr(),cmap='tab20',annot=True,linewidth=2,linecolor='red')"
   ]
  },
  {
   "cell_type": "code",
   "execution_count": null,
   "metadata": {
    "colab": {
     "base_uri": "https://localhost:8080/",
     "height": 286
    },
    "id": "m2gZy3d9c_X5",
    "outputId": "06e111ab-8cf2-4914-c22e-905e77fd07cf"
   },
   "outputs": [],
   "source": [
    "sns.heatmap(tips.corr(),cmap='tab20',cbar=False,annot=True,linewidth=2,linecolor='red')"
   ]
  },
  {
   "cell_type": "code",
   "execution_count": null,
   "metadata": {
    "id": "WSosh0JEdYl7"
   },
   "outputs": [],
   "source": []
  }
 ],
 "metadata": {
  "colab": {
   "collapsed_sections": [],
   "provenance": []
  },
  "kernelspec": {
   "display_name": "Python 3 (ipykernel)",
   "language": "python",
   "name": "python3"
  },
  "language_info": {
   "codemirror_mode": {
    "name": "ipython",
    "version": 3
   },
   "file_extension": ".py",
   "mimetype": "text/x-python",
   "name": "python",
   "nbconvert_exporter": "python",
   "pygments_lexer": "ipython3",
   "version": "3.9.12"
  }
 },
 "nbformat": 4,
 "nbformat_minor": 1
}
