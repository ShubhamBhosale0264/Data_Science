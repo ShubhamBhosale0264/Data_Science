{
 "cells": [
  {
   "cell_type": "markdown",
   "metadata": {},
   "source": [
    "## Mean"
   ]
  },
  {
   "cell_type": "code",
   "execution_count": 1,
   "metadata": {},
   "outputs": [
    {
     "data": {
      "text/plain": [
       "5.375"
      ]
     },
     "execution_count": 1,
     "metadata": {},
     "output_type": "execute_result"
    }
   ],
   "source": [
    "a = [3,6,8,3,6,8,3,6,]\n",
    "b = sum(a)\n",
    "men = b/len(a)\n",
    "men"
   ]
  },
  {
   "cell_type": "code",
   "execution_count": 2,
   "metadata": {},
   "outputs": [
    {
     "data": {
      "text/plain": [
       "2.4"
      ]
     },
     "execution_count": 2,
     "metadata": {},
     "output_type": "execute_result"
    }
   ],
   "source": [
    "a = [3,-7,5,13,-2]\n",
    "b = sum(a)\n",
    "men = b/len(a)\n",
    "men"
   ]
  },
  {
   "cell_type": "markdown",
   "metadata": {},
   "source": [
    "## Median"
   ]
  },
  {
   "cell_type": "code",
   "execution_count": 3,
   "metadata": {},
   "outputs": [
    {
     "name": "stdout",
     "output_type": "stream",
     "text": [
      "22.0\n"
     ]
    }
   ],
   "source": [
    "a = [3,13,7,5,21,23,39,40,23,14,12,56,23,29]\n",
    "a.sort()\n",
    "if len(a) % 2 == 0:\n",
    "    median = (a[len(a)//2 - 1] + a[len(a)//2]) / 2\n",
    "else:\n",
    "    median = a[len(a)//2]\n",
    "print(median)"
   ]
  },
  {
   "cell_type": "code",
   "execution_count": 4,
   "metadata": {},
   "outputs": [
    {
     "name": "stdout",
     "output_type": "stream",
     "text": [
      "22.0\n"
     ]
    }
   ],
   "source": [
    "a = [3,13,7,5,21,23,23,40,23,14,12,56,23,29]\n",
    "a.sort()\n",
    "if len(a) % 2 == 0:\n",
    "    median = (a[len(a)//2 - 1] + a[len(a)//2]) / 2\n",
    "else:\n",
    "    median = a[len(a)//2]\n",
    "print(median)"
   ]
  },
  {
   "cell_type": "code",
   "execution_count": 5,
   "metadata": {},
   "outputs": [
    {
     "name": "stdout",
     "output_type": "stream",
     "text": [
      "5.0\n"
     ]
    }
   ],
   "source": [
    "a = [4,2,11,6,2,9]\n",
    "a.sort()\n",
    "if len(a) % 2 == 0:\n",
    "    median = (a[len(a)//2 - 1] + a[len(a)//2]) / 2\n",
    "else:\n",
    "    median = a[len(a)//2]\n",
    "print(median)"
   ]
  },
  {
   "cell_type": "markdown",
   "metadata": {},
   "source": [
    "## Mode"
   ]
  },
  {
   "cell_type": "code",
   "execution_count": 6,
   "metadata": {},
   "outputs": [
    {
     "name": "stdout",
     "output_type": "stream",
     "text": [
      "[6]\n"
     ]
    }
   ],
   "source": [
    "a = [6,3,9,6,6,5,9,3]\n",
    "counts = {}\n",
    "for num in a:\n",
    "    if num in counts:\n",
    "        counts[num] += 1\n",
    "    else:\n",
    "        counts[num] = 1\n",
    "max_count = max(counts.values())\n",
    "mode = [num for num in counts if counts[num] == max_count]\n",
    "print(mode)"
   ]
  },
  {
   "cell_type": "code",
   "execution_count": null,
   "metadata": {},
   "outputs": [],
   "source": []
  }
 ],
 "metadata": {
  "kernelspec": {
   "display_name": "Python 3",
   "language": "python",
   "name": "python3"
  },
  "language_info": {
   "codemirror_mode": {
    "name": "ipython",
    "version": 3
   },
   "file_extension": ".py",
   "mimetype": "text/x-python",
   "name": "python",
   "nbconvert_exporter": "python",
   "pygments_lexer": "ipython3",
   "version": "3.12.3"
  }
 },
 "nbformat": 4,
 "nbformat_minor": 2
}
